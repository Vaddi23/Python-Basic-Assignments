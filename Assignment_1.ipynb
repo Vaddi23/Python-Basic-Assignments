{
 "cells": [
  {
   "cell_type": "code",
   "execution_count": null,
   "id": "42ed1ea5",
   "metadata": {},
   "outputs": [],
   "source": [
    "1. In the below elements which of them are values or an expression? eg:- values can be integer or string and expressions will be mathematical operators.\n",
    "* = Expression\n",
    "'hello' = value\n",
    "-87.8 = value\n",
    "- = expression\n",
    "/ = expression\n",
    "+\t= expression\n",
    "6 = value\n",
    "\n",
    "2. What is the difference between string and variable?\n",
    "String is a type data and variable is memory name to hold the data\n",
    "3. Describe three different data types.\n",
    "Integer, string, float…etc\n",
    "4. What is an expression made up of? What do all expressions do?\n",
    "Expression is the combination of values and mathematical operators, which assigns data into variable and modifies\n",
    "5. This assignment statements, like spam = 10. What is the difference between an expression and a statement?\n",
    "Expression is the combination of values and mathematical operators, whereas statement is executable in python. Ex: print()\n",
    "6. After running the following code, what does the variable bacon contain?\n",
    "bacon = 22\n",
    "bacon + 1\n",
    "bacon = 23\n",
    "7. What should the values of the following two terms be?\n",
    "'spam' + 'spamspam' = spamspamspam\n",
    "'spam' * 3 = spamspamspam\n",
    "\n",
    "8. Why is eggs a valid variable name while 100 is invalid?\n",
    "Integer can’t be a variable\n",
    "9. What three functions can be used to get the integer, floating-point number, or string version of a value?\n",
    "int(), str() and float()\n",
    "10. Why does this expression cause an error? How can you fix it?\n",
    "'I have eaten ' + 99 + ' burritos.'\n",
    "Concatenation of integer and string value is not possible\n",
    "'I have eaten ' + ‘99’ + ' burritos.'\n",
    "\n",
    "\n",
    "\n"
   ]
  }
 ],
 "metadata": {
  "kernelspec": {
   "display_name": "Python 3",
   "language": "python",
   "name": "python3"
  },
  "language_info": {
   "codemirror_mode": {
    "name": "ipython",
    "version": 3
   },
   "file_extension": ".py",
   "mimetype": "text/x-python",
   "name": "python",
   "nbconvert_exporter": "python",
   "pygments_lexer": "ipython3",
   "version": "3.8.8"
  }
 },
 "nbformat": 4,
 "nbformat_minor": 5
}
