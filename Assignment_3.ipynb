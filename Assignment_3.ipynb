{
 "cells": [
  {
   "cell_type": "code",
   "execution_count": null,
   "id": "13d75232",
   "metadata": {},
   "outputs": [],
   "source": [
    "1. Why are functions advantageous to have in your programs?\n",
    "To reduce re coding every time for the same task execution\n",
    "2. When does the code in a function run: when it's specified or when it's called?\n",
    "When its called\n",
    "3. What statement creates a function?\n",
    "def test():\n",
    "4. What is the difference between a function and a function call?\n",
    "A function is procedure to achieve a task, using the already created function is called function call.\n",
    "5. How many global scopes are there in a Python program? How many local scopes?\n",
    "Local scope of variable can only be accessed in particular block, whereas the global scope of variable is constant for the entire program\n",
    "6. What happens to variables in a local scope when the function call returns?\n",
    "Assigns the value to a variable\n",
    "7. What is the concept of a return value? Is it possible to have a return value in an expression?\n",
    "The executed result will be saved in a variable after return,  No\n",
    "8. If a function does not have a return statement, what is the return value of a call to that function?\n",
    "None and need to pass it\n",
    "9. How do you make a function variable refer to the global variable?\n",
    "10. What is the data type of None?\n",
    "Print statement data\n",
    "11. What does the sentence import areallyourpetsnamederic do?\n",
    "No such kind of module available in python packages\n",
    "12. If you had a bacon() feature in a spam module, what would you call it after importing spam?\n",
    "Spam.bacon()\n",
    "13. What can you do to save a programme from crashing if it encounters an error?\n",
    "1. Copy the code into new python window\n",
    "2. reconnect to the kernel\n",
    "3. Try and Except handling incase of my code is suspicious\n",
    "14. What is the purpose of the try clause? What is the purpose of the except clause?\n",
    "The try block tests the code for errors, the except block handles the error.\n",
    "\n",
    "\n"
   ]
  }
 ],
 "metadata": {
  "kernelspec": {
   "display_name": "Python 3",
   "language": "python",
   "name": "python3"
  },
  "language_info": {
   "codemirror_mode": {
    "name": "ipython",
    "version": 3
   },
   "file_extension": ".py",
   "mimetype": "text/x-python",
   "name": "python",
   "nbconvert_exporter": "python",
   "pygments_lexer": "ipython3",
   "version": "3.8.8"
  }
 },
 "nbformat": 4,
 "nbformat_minor": 5
}
